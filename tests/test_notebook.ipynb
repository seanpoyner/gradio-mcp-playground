{
 "cells": [
  {
   "cell_type": "markdown",
   "metadata": {},
   "source": [
    "# Gradio MCP Playground - Manual Testing Notebook\n",
    "\n",
    "This notebook provides a comprehensive manual testing environment for the Gradio MCP Playground.\n",
    "Use this to validate functionality, debug issues, and explore features interactively.\n",
    "\n",
    "## 📋 Prerequisites\n",
    "\n",
    "1. Install the package: `pip install -e .`\n",
    "2. Ensure all dependencies are installed\n",
    "3. Run this notebook in the project root directory"
   ]
  },
  {
   "cell_type": "markdown",
   "metadata": {},
   "source": [
    "## 🛠️ Setup and Imports\n",
    "\n",
    "✅ **Good News**: The project now gracefully handles missing dependencies!\n",
    "\n",
    "### 🎯 **Testing Levels Available:**\n",
    "\n",
    "1. **🔧 Core Testing** (requires: click, pydantic, rich)\n",
    "   - ✅ CLI functionality testing  \n",
    "   - ✅ Configuration management\n",
    "   - ✅ Server registry operations\n",
    "\n",
    "2. **🌐 Web Testing** (requires: gradio)\n",
    "   - ✅ Dashboard creation\n",
    "   - ✅ Web UI functionality\n",
    "\n",
    "3. **🚀 Full MCP Testing** (requires: mcp package)\n",
    "   - ✅ MCP server creation\n",
    "   - ✅ Tool registration and execution\n",
    "   - ✅ Client connections\n",
    "\n",
    "### 🔧 **Quick Installation:**\n",
    "\n",
    "Choose your level of functionality:\n",
    "\n",
    "```bash\n",
    "# For basic CLI testing only\n",
    "pip install --user click pydantic rich\n",
    "\n",
    "# For web dashboard too  \n",
    "pip install --user gradio click pydantic rich\n",
    "\n",
    "# For full MCP functionality\n",
    "pip install --user gradio mcp click pydantic rich\n",
    "\n",
    "# Or install everything (recommended)\n",
    "pip install --user -e .\n",
    "```\n",
    "\n",
    "The notebook will automatically detect what's available and run appropriate tests!"
   ]
  },
  {
   "cell_type": "code",
   "execution_count": 5,
   "metadata": {},
   "outputs": [
    {
     "name": "stdout",
     "output_type": "stream",
     "text": [
      "🚀 Gradio MCP Playground - Installation Fix\n",
      "==================================================\n",
      "🐍 Python: c:\\Python313\\python.exe\n",
      "📁 Working dir: c:\\Users\\seanp\\gradio-mcp-playground\\tests\n",
      "\n",
      "🔧 Installing project in development mode...\n",
      "   Trying: c:\\Python313\\python.exe -m pip install --user -e ..\n",
      "   ✅ Installation successful\n",
      "\n",
      "🧪 Testing CLI functionality...\n",
      "✅ CLI working correctly!\n",
      "\n",
      "🎉 SUCCESS! Package is now properly installed!\n",
      "✅ You can proceed with the rest of the notebook\n",
      "\n",
      "==================================================\n"
     ]
    }
   ],
   "source": [
    "# CRITICAL: Install the package in the current Python environment\n",
    "import subprocess\n",
    "import sys\n",
    "import os\n",
    "from pathlib import Path\n",
    "\n",
    "print(\"🚀 Gradio MCP Playground - Installation Fix\")\n",
    "print(\"=\" * 50)\n",
    "print(f\"🐍 Python: {sys.executable}\")\n",
    "print(f\"📁 Working dir: {Path.cwd()}\")\n",
    "\n",
    "def install_and_test():\n",
    "    \"\"\"Install package and test CLI functionality\"\"\"\n",
    "    \n",
    "    # Step 1: Install the project in development mode\n",
    "    print(\"\\n🔧 Installing project in development mode...\")\n",
    "    install_commands = [\n",
    "        [sys.executable, \"-m\", \"pip\", \"install\", \"--user\", \"-e\", \"..\"],\n",
    "        [sys.executable, \"-m\", \"pip\", \"install\", \"--user\", \"--break-system-packages\", \"-e\", \"..\"],\n",
    "    ]\n",
    "    \n",
    "    installed = False\n",
    "    for cmd in install_commands:\n",
    "        try:\n",
    "            print(f\"   Trying: {' '.join(cmd)}\")\n",
    "            subprocess.check_call(cmd)\n",
    "            print(f\"   ✅ Installation successful\")\n",
    "            installed = True\n",
    "            break\n",
    "        except subprocess.CalledProcessError as e:\n",
    "            print(f\"   ❌ Failed: {e}\")\n",
    "            continue\n",
    "    \n",
    "    if not installed:\n",
    "        print(\"❌ Could not install package\")\n",
    "        return False\n",
    "    \n",
    "    # Step 2: Test CLI functionality\n",
    "    print(\"\\n🧪 Testing CLI functionality...\")\n",
    "    try:\n",
    "        result = subprocess.run([\n",
    "            sys.executable, \"-m\", \"gradio_mcp_playground.cli\", \"--help\"\n",
    "        ], capture_output=True, text=True, timeout=10)\n",
    "        \n",
    "        if result.returncode == 0:\n",
    "            print(\"✅ CLI working correctly!\")\n",
    "            return True\n",
    "        else:\n",
    "            print(f\"❌ CLI error: {result.stderr}\")\n",
    "            return False\n",
    "    except Exception as e:\n",
    "        print(f\"❌ CLI test failed: {e}\")\n",
    "        return False\n",
    "\n",
    "# Run the installation and test\n",
    "success = install_and_test()\n",
    "\n",
    "if success:\n",
    "    print(\"\\n🎉 SUCCESS! Package is now properly installed!\")\n",
    "    print(\"✅ You can proceed with the rest of the notebook\")\n",
    "else:\n",
    "    print(\"\\n❌ INSTALLATION FAILED\")\n",
    "    print(\"💡 Try the following:\")\n",
    "    print(\"   1. Restart the Jupyter kernel\")\n",
    "    print(\"   2. Run this cell again\")\n",
    "    print(\"   3. Or run manually: pip install --user -e .\")\n",
    "\n",
    "print(\"\\n\" + \"=\" * 50)"
   ]
  },
  {
   "cell_type": "code",
   "execution_count": 6,
   "metadata": {},
   "outputs": [
    {
     "name": "stdout",
     "output_type": "stream",
     "text": [
      "📁 Working directory: c:\\Users\\seanp\\gradio-mcp-playground\\tests\n",
      "🐍 Python executable: c:\\Python313\\python.exe\n",
      "🐍 Python version: 3.13.3 (tags/v3.13.3:6280bb5, Apr  8 2025, 14:47:33) [MSC v.1943 64 bit (AMD64)]\n",
      "\n",
      "🔍 Testing CLI installation...\n",
      "✅ CLI module is properly installed and accessible\n",
      "\n",
      "🔍 Testing gmp alias...\n",
      "✅ gmp alias works\n",
      "✅ gradio available\n",
      "✅ click available\n",
      "✅ rich available\n",
      "✅ pydantic available\n",
      "✅ aiohttp available\n",
      "✅ mcp (optional) available\n",
      "✅ anthropic (optional) available\n",
      "✅ huggingface_hub (optional) available\n",
      "✅ psutil (optional) available\n",
      "✅ Basic project modules imported successfully\n",
      "✅ MCP modules imported successfully\n",
      "✅ Web UI modules imported successfully\n",
      "\n",
      "🔧 Module Availability Summary:\n",
      "  CLI: ✅\n",
      "  Basic modules: ✅\n",
      "  MCP modules: ✅\n",
      "  Web UI: ✅\n",
      "🎉 All modules loaded - full testing available!\n"
     ]
    }
   ],
   "source": [
    "import sys\n",
    "import os\n",
    "import json\n",
    "import subprocess\n",
    "import time\n",
    "import asyncio\n",
    "from pathlib import Path\n",
    "import tempfile\n",
    "import shutil\n",
    "\n",
    "# Add project to path\n",
    "sys.path.insert(0, str(Path.cwd()))\n",
    "\n",
    "print(f\"📁 Working directory: {Path.cwd()}\")\n",
    "print(f\"🐍 Python executable: {sys.executable}\")\n",
    "print(f\"🐍 Python version: {sys.version}\")\n",
    "\n",
    "# Test CLI installation first\n",
    "print(\"\\n🔍 Testing CLI installation...\")\n",
    "try:\n",
    "    result = subprocess.run([sys.executable, \"-m\", \"gradio_mcp_playground.cli\", \"--help\"], \n",
    "                          capture_output=True, text=True, timeout=10)\n",
    "    if result.returncode == 0:\n",
    "        print(\"✅ CLI module is properly installed and accessible\")\n",
    "        cli_available = True\n",
    "    else:\n",
    "        print(f\"❌ CLI module error: {result.stderr}\")\n",
    "        cli_available = False\n",
    "except subprocess.TimeoutExpired:\n",
    "    print(\"❌ CLI command timed out\")\n",
    "    cli_available = False\n",
    "except Exception as e:\n",
    "    print(f\"❌ CLI test failed: {e}\")\n",
    "    cli_available = False\n",
    "\n",
    "# Test gmp alias if available\n",
    "print(\"\\n🔍 Testing gmp alias...\")\n",
    "try:\n",
    "    result = subprocess.run([\"gmp\", \"--help\"], capture_output=True, text=True, timeout=10)\n",
    "    if result.returncode == 0:\n",
    "        print(\"✅ gmp alias works\")\n",
    "        gmp_available = True\n",
    "    else:\n",
    "        print(\"⚠️ gmp alias not available (this is normal on some systems)\")\n",
    "        gmp_available = False\n",
    "except:\n",
    "    print(\"⚠️ gmp alias not available (this is normal on some systems)\")\n",
    "    gmp_available = False\n",
    "\n",
    "# Check dependency availability\n",
    "dependencies_status = {}\n",
    "\n",
    "# Check core dependencies\n",
    "core_deps = [\"gradio\", \"click\", \"rich\", \"pydantic\", \"aiohttp\"]\n",
    "for dep in core_deps:\n",
    "    try:\n",
    "        __import__(dep)\n",
    "        dependencies_status[dep] = True\n",
    "        print(f\"✅ {dep} available\")\n",
    "    except ImportError:\n",
    "        dependencies_status[dep] = False\n",
    "        print(f\"❌ {dep} missing\")\n",
    "\n",
    "# Check optional dependencies\n",
    "optional_deps = [\"mcp\", \"anthropic\", \"huggingface_hub\", \"psutil\"]\n",
    "for dep in optional_deps:\n",
    "    try:\n",
    "        __import__(dep)\n",
    "        dependencies_status[dep] = True\n",
    "        print(f\"✅ {dep} (optional) available\")\n",
    "    except ImportError:\n",
    "        dependencies_status[dep] = False\n",
    "        print(f\"⚠️ {dep} (optional) missing - some features will be limited\")\n",
    "\n",
    "# Try to import project modules with dependency checks\n",
    "basic_modules_available = False\n",
    "if cli_available:\n",
    "    try:\n",
    "        from gradio_mcp_playground.config_manager import ConfigManager\n",
    "        from gradio_mcp_playground.registry import ServerRegistry\n",
    "        print(\"✅ Basic project modules imported successfully\")\n",
    "        basic_modules_available = True\n",
    "    except ImportError as e:\n",
    "        print(f\"❌ Basic modules import error: {e}\")\n",
    "\n",
    "# Try importing MCP modules (these now handle missing dependencies gracefully)\n",
    "mcp_modules_available = False\n",
    "if dependencies_status.get(\"mcp\", False):\n",
    "    try:\n",
    "        from gradio_mcp_playground.server_manager import MCPServer, GradioMCPServer\n",
    "        from gradio_mcp_playground.client_manager import GradioMCPClient\n",
    "        print(\"✅ MCP modules imported successfully\")\n",
    "        mcp_modules_available = True\n",
    "    except ImportError as e:\n",
    "        print(f\"⚠️ MCP modules import error (expected if mcp not installed): {e}\")\n",
    "\n",
    "# Try importing web UI modules (now handles missing gradio gracefully)\n",
    "web_modules_available = False\n",
    "if dependencies_status.get(\"gradio\", False):\n",
    "    try:\n",
    "        from gradio_mcp_playground.web_ui import create_dashboard\n",
    "        print(\"✅ Web UI modules imported successfully\")\n",
    "        web_modules_available = True\n",
    "    except ImportError as e:\n",
    "        print(f\"⚠️ Web UI modules import error: {e}\")\n",
    "\n",
    "# Summary\n",
    "print(f\"\\n🔧 Module Availability Summary:\")\n",
    "print(f\"  CLI: {'✅' if cli_available else '❌'}\")\n",
    "print(f\"  Basic modules: {'✅' if basic_modules_available else '❌'}\")\n",
    "print(f\"  MCP modules: {'✅' if mcp_modules_available else '⚠️ (requires mcp package)'}\")\n",
    "print(f\"  Web UI: {'✅' if web_modules_available else '⚠️ (requires gradio)'}\")\n",
    "\n",
    "# Set global flags for test conditions\n",
    "all_imports_successful = mcp_modules_available and web_modules_available and cli_available\n",
    "core_imports_successful = cli_available and basic_modules_available\n",
    "\n",
    "if all_imports_successful:\n",
    "    print(\"🎉 All modules loaded - full testing available!\")\n",
    "elif core_imports_successful:\n",
    "    print(\"⚡ Core modules loaded - basic testing available!\")\n",
    "else:\n",
    "    print(\"⚠️ Limited functionality - some modules not accessible\")\n",
    "    print(\"💡 Make sure you ran the installation cell above successfully\")\n",
    "    print(\"💡 Try restarting the kernel and running all cells again\")"
   ]
  },
  {
   "cell_type": "markdown",
   "metadata": {},
   "source": [
    "## 🔧 Test Environment Setup"
   ]
  },
  {
   "cell_type": "code",
   "execution_count": 7,
   "metadata": {},
   "outputs": [
    {
     "name": "stdout",
     "output_type": "stream",
     "text": [
      "🏗️ Test environment: c:\\Users\\seanp\\gradio-mcp-playground\\tests\\test_environment\n",
      "✅ Helper functions defined\n"
     ]
    }
   ],
   "source": [
    "# Create a temporary test directory\n",
    "test_dir = Path(\"test_environment\")\n",
    "test_dir.mkdir(exist_ok=True)\n",
    "\n",
    "print(f\"🏗️ Test environment: {test_dir.absolute()}\")\n",
    "\n",
    "# Helper function to run CLI commands with better error handling\n",
    "def run_cli_command(command_list, capture_output=True, timeout=30):\n",
    "    \"\"\"Run a CLI command and return the result\"\"\"\n",
    "    try:\n",
    "        result = subprocess.run(\n",
    "            [sys.executable, \"-m\", \"gradio_mcp_playground.cli\"] + command_list,\n",
    "            capture_output=capture_output,\n",
    "            text=True,\n",
    "            timeout=timeout,\n",
    "            encoding='utf-8',  # Explicit encoding to avoid Windows issues\n",
    "            errors='replace'   # Handle encoding errors gracefully\n",
    "        )\n",
    "        return {\n",
    "            \"success\": result.returncode == 0,\n",
    "            \"returncode\": result.returncode,\n",
    "            \"stdout\": result.stdout if capture_output else \"\",\n",
    "            \"stderr\": result.stderr if capture_output else \"\"\n",
    "        }\n",
    "    except subprocess.TimeoutExpired:\n",
    "        return {\"success\": False, \"error\": \"Command timed out\"}\n",
    "    except Exception as e:\n",
    "        return {\"success\": False, \"error\": str(e)}\n",
    "\n",
    "print(\"✅ Helper functions defined\")"
   ]
  },
  {
   "cell_type": "markdown",
   "metadata": {},
   "source": [
    "## 📋 Basic CLI Testing"
   ]
  },
  {
   "cell_type": "code",
   "execution_count": 8,
   "metadata": {},
   "outputs": [
    {
     "name": "stdout",
     "output_type": "stream",
     "text": [
      "🧪 Testing basic CLI commands...\n",
      "Help command: ✅\n",
      "Version command: ✅\n",
      "📦 Version: gmp, version 0.1.0\n",
      "server help: ✅\n",
      "client help: ✅\n",
      "registry help: ✅\n",
      "✅ Basic CLI tests completed\n"
     ]
    }
   ],
   "source": [
    "# Test basic CLI functionality\n",
    "print(\"🧪 Testing basic CLI commands...\")\n",
    "\n",
    "# Test help command\n",
    "result = run_cli_command([\"--help\"])\n",
    "print(f\"Help command: {'✅' if result['success'] else '❌'}\")\n",
    "if not result['success']:\n",
    "    print(f\"❌ Error: {result.get('stderr', result.get('error', 'Unknown error'))}\")\n",
    "\n",
    "# Test version command  \n",
    "result = run_cli_command([\"--version\"])\n",
    "print(f\"Version command: {'✅' if result['success'] else '❌'}\")\n",
    "if result['success']:\n",
    "    print(f\"📦 Version: {result['stdout'].strip()}\")\n",
    "\n",
    "# Test subcommand help\n",
    "subcommands = [\"server\", \"client\", \"registry\"]\n",
    "for subcmd in subcommands:\n",
    "    result = run_cli_command([subcmd, \"--help\"])\n",
    "    print(f\"{subcmd} help: {'✅' if result['success'] else '❌'}\")\n",
    "    if not result['success']:\n",
    "        print(f\"  Error: {result.get('stderr', 'Unknown error')}\")\n",
    "\n",
    "print(\"✅ Basic CLI tests completed\")"
   ]
  },
  {
   "cell_type": "markdown",
   "metadata": {},
   "source": [
    "## 🖥️ Server Management Testing"
   ]
  },
  {
   "cell_type": "code",
   "execution_count": 9,
   "metadata": {},
   "outputs": [
    {
     "name": "stdout",
     "output_type": "stream",
     "text": [
      "📁 Working in: c:\\Users\\seanp\\gradio-mcp-playground\\tests\\test_environment\n",
      "📝 Directory writable: True\n",
      "🧪 Creating server 'test-basic-server' with basic template...\n",
      "Server creation: ✅\n",
      "📦 Server created successfully!\n",
      "📁 Server directory: test-basic-server\n",
      "📄 Files created: ['app.py', 'README.md', 'requirements.txt']\n"
     ]
    }
   ],
   "source": [
    "# Change to test directory for server creation\n",
    "original_cwd = os.getcwd()\n",
    "os.chdir(test_dir)\n",
    "\n",
    "print(f\"📁 Working in: {Path.cwd()}\")\n",
    "print(f\"📝 Directory writable: {os.access('.', os.W_OK)}\")\n",
    "\n",
    "# Test server creation with basic template\n",
    "server_name = \"test-basic-server\"\n",
    "print(f\"🧪 Creating server '{server_name}' with basic template...\")\n",
    "\n",
    "result = run_cli_command([\"server\", \"create\", server_name, \"--template\", \"basic\"])\n",
    "\n",
    "server_created = result['success']\n",
    "print(f\"Server creation: {'✅' if server_created else '❌'}\")\n",
    "\n",
    "if server_created:\n",
    "    print(\"📦 Server created successfully!\")\n",
    "    # Check if files were actually created\n",
    "    server_path = Path(server_name)\n",
    "    if server_path.exists():\n",
    "        print(f\"📁 Server directory: {server_path}\")\n",
    "        files = list(server_path.glob(\"*\"))\n",
    "        print(f\"📄 Files created: {[f.name for f in files]}\")\n",
    "    else:\n",
    "        print(\"⚠️ Server directory not found despite success\")\n",
    "        server_created = False\n",
    "else:\n",
    "    print(\"❌ Server creation failed\")\n",
    "    print(f\"   Command: python -m gradio_mcp_playground.cli server create {server_name} --template basic\")\n",
    "    print(f\"   Working dir: {Path.cwd()}\")\n",
    "    print(f\"   Return code: {result.get('returncode', 'N/A')}\")\n",
    "    if result.get('stdout'):\n",
    "        print(f\"   Stdout: {result['stdout'][:200]}\")\n",
    "    if result.get('stderr'):\n",
    "        print(f\"   Stderr: {result['stderr'][:200]}\")\n",
    "    if result.get('error'):\n",
    "        print(f\"   Exception: {result['error']}\")\n",
    "\n",
    "# Store server creation status for next cell\n",
    "globals()['server_creation_successful'] = server_created"
   ]
  },
  {
   "cell_type": "code",
   "execution_count": 10,
   "metadata": {},
   "outputs": [
    {
     "name": "stdout",
     "output_type": "stream",
     "text": [
      "🧪 Testing server listing...\n",
      "Server list: ✅\n",
      "📋 Found servers in the list\n"
     ]
    }
   ],
   "source": [
    "# Test server listing\n",
    "print(\"🧪 Testing server listing...\")\n",
    "\n",
    "result = run_cli_command([\"server\", \"list\"])\n",
    "print(f\"Server list: {'✅' if result['success'] else '❌'}\")\n",
    "\n",
    "if result['success']:\n",
    "    if result['stdout'].strip() and result['stdout'].strip() != 'None':\n",
    "        print(\"📋 Found servers in the list\")\n",
    "    else:\n",
    "        print(\"📋 No servers currently listed (this is normal)\")\n",
    "else:\n",
    "    print(f\"❌ Error: {result.get('stderr', 'Unknown error')}\")"
   ]
  },
  {
   "cell_type": "code",
   "execution_count": 11,
   "metadata": {},
   "outputs": [
    {
     "name": "stdout",
     "output_type": "stream",
     "text": [
      "🧪 Testing server info...\n",
      "Server info: ✅\n",
      "⚠️ Server exists as directory but not registered in system\n"
     ]
    }
   ],
   "source": [
    "# Test server info (only if server was created successfully)\n",
    "print(\"🧪 Testing server info...\")\n",
    "\n",
    "# Check if server was created in the previous cell\n",
    "server_created = globals().get('server_creation_successful', False)\n",
    "\n",
    "if server_created and Path(server_name).exists():\n",
    "    result = run_cli_command([\"server\", \"info\", server_name])\n",
    "    print(f\"Server info: {'✅' if result['success'] else '❌'}\")\n",
    "    if result['success']:\n",
    "        # Check if we got actual server info or \"not found\" message\n",
    "        if 'not found' in result['stdout'].lower():\n",
    "            print(\"⚠️ Server exists as directory but not registered in system\")\n",
    "        else:\n",
    "            print(\"ℹ️ Server information retrieved successfully\")\n",
    "    else:\n",
    "        print(f\"❌ Error: {result.get('stderr', 'Unknown error')}\")\n",
    "else:\n",
    "    print(\"⏭️ Skipping server info test (server creation failed)\")\n",
    "    # Test the command anyway to verify it handles missing servers correctly\n",
    "    result = run_cli_command([\"server\", \"info\", \"nonexistent-server\"])\n",
    "    if result['success'] and 'not found' in result['stdout'].lower():\n",
    "        print(\"✅ Correctly handled request for nonexistent server\")\n",
    "    else:\n",
    "        print(\"⚠️ Unexpected behavior for nonexistent server\")"
   ]
  },
  {
   "cell_type": "markdown",
   "metadata": {},
   "source": [
    "## 🔌 MCP Server Functionality Testing"
   ]
  },
  {
   "cell_type": "code",
   "execution_count": 12,
   "metadata": {},
   "outputs": [
    {
     "name": "stdout",
     "output_type": "stream",
     "text": [
      "Testing MCP server functionality...\n",
      "✅ MCP server created with 3 tools\n",
      "  🔧 greet: Greet someone by name\n",
      "  🔧 calculate: Perform basic arithmetic\n",
      "  🔧 process_text: Process text in various ways\n"
     ]
    }
   ],
   "source": [
    "# Test MCP server creation and tool registration\n",
    "print(\"Testing MCP server functionality...\")\n",
    "\n",
    "# Check if MCP modules are available\n",
    "if all_imports_successful and 'MCPServer' in globals():\n",
    "    # Create a test MCP server\n",
    "    mcp_server = MCPServer(\"test-mcp-server\", \"1.0.0\", \"Test MCP Server\")\n",
    "\n",
    "    @mcp_server.tool(\"greet\", \"Greet someone by name\")\n",
    "    async def greet(name: str) -> str:\n",
    "        return f\"Hello, {name}! Nice to meet you.\"\n",
    "\n",
    "    @mcp_server.tool(\"calculate\", \"Perform basic arithmetic\")\n",
    "    async def calculate(a: float, b: float, operation: str) -> float:\n",
    "        if operation == \"add\":\n",
    "            return a + b\n",
    "        elif operation == \"subtract\":\n",
    "            return a - b\n",
    "        elif operation == \"multiply\":\n",
    "            return a * b\n",
    "        elif operation == \"divide\":\n",
    "            return a / b if b != 0 else float('inf')\n",
    "        else:\n",
    "            return 0.0\n",
    "\n",
    "    @mcp_server.tool(\"process_text\", \"Process text in various ways\")\n",
    "    async def process_text(text: str, operation: str) -> str:\n",
    "        if operation == \"upper\":\n",
    "            return text.upper()\n",
    "        elif operation == \"lower\":\n",
    "            return text.lower()\n",
    "        elif operation == \"reverse\":\n",
    "            return text[::-1]\n",
    "        elif operation == \"length\":\n",
    "            return f\"Length: {len(text)}\"\n",
    "        else:\n",
    "            return text\n",
    "\n",
    "    print(f\"✅ MCP server created with {len(mcp_server.tools)} tools\")\n",
    "    for tool in mcp_server.tools:\n",
    "        print(f\"  🔧 {tool.name}: {tool.description}\")\n",
    "else:\n",
    "    print(\"⏭️ Skipping MCP server tests - dependencies not available\")\n",
    "    print(\"💡 Install missing dependencies and restart the notebook\")"
   ]
  },
  {
   "cell_type": "code",
   "execution_count": 13,
   "metadata": {},
   "outputs": [
    {
     "name": "stdout",
     "output_type": "stream",
     "text": [
      "Testing tool execution...\n",
      "Greet tool result: Hello, World! Nice to meet you.\n",
      "Calculate tool result: 15.0\n",
      "Process text tool result: HELLO WORLD\n",
      "✅ Tool execution tests completed\n"
     ]
    }
   ],
   "source": [
    "# Test tool execution\n",
    "print(\"Testing tool execution...\")\n",
    "\n",
    "if all_imports_successful and 'mcp_server' in globals():\n",
    "    async def test_tools():\n",
    "        # Test greet tool\n",
    "        greet_tool = next(tool for tool in mcp_server.tools if tool.name == \"greet\")\n",
    "        result = await greet_tool.handler(\"World\")\n",
    "        print(f\"Greet tool result: {result}\")\n",
    "        \n",
    "        # Test calculate tool\n",
    "        calc_tool = next(tool for tool in mcp_server.tools if tool.name == \"calculate\")\n",
    "        result = await calc_tool.handler(10.0, 5.0, \"add\")\n",
    "        print(f\"Calculate tool result: {result}\")\n",
    "        \n",
    "        # Test process_text tool\n",
    "        text_tool = next(tool for tool in mcp_server.tools if tool.name == \"process_text\")\n",
    "        result = await text_tool.handler(\"Hello World\", \"upper\")\n",
    "        print(f\"Process text tool result: {result}\")\n",
    "\n",
    "    await test_tools()\n",
    "    print(\"✅ Tool execution tests completed\")\n",
    "else:\n",
    "    print(\"⏭️ Skipping tool execution tests - MCP server not available\")"
   ]
  },
  {
   "cell_type": "code",
   "execution_count": 14,
   "metadata": {},
   "outputs": [
    {
     "name": "stdout",
     "output_type": "stream",
     "text": [
      "Testing Gradio integration...\n",
      "✅ Converted 3 tools to Gradio functions\n",
      "  📋 greet: Greet someone by name\n",
      "    Inputs: 1 components\n",
      "    Output: text\n",
      "  📋 calculate: Perform basic arithmetic\n",
      "    Inputs: 3 components\n",
      "    Output: text\n",
      "  📋 process_text: Process text in various ways\n",
      "    Inputs: 2 components\n",
      "    Output: text\n"
     ]
    }
   ],
   "source": [
    "# Test Gradio integration\n",
    "print(\"Testing Gradio integration...\")\n",
    "\n",
    "if all_imports_successful and 'mcp_server' in globals():\n",
    "    try:\n",
    "        gradio_functions = mcp_server.to_gradio_functions()\n",
    "        print(f\"✅ Converted {len(gradio_functions)} tools to Gradio functions\")\n",
    "        \n",
    "        for func in gradio_functions:\n",
    "            print(f\"  📋 {func['name']}: {func['description']}\")\n",
    "            print(f\"    Inputs: {len(func['inputs'])} components\")\n",
    "            print(f\"    Output: {func['outputs']}\")\n",
    "            \n",
    "    except Exception as e:\n",
    "        print(f\"❌ Gradio integration error: {e}\")\n",
    "else:\n",
    "    print(\"⏭️ Skipping Gradio integration tests - dependencies not available\")"
   ]
  },
  {
   "cell_type": "markdown",
   "metadata": {},
   "source": [
    "## 🌐 Web Dashboard Testing"
   ]
  },
  {
   "cell_type": "code",
   "execution_count": 15,
   "metadata": {},
   "outputs": [
    {
     "name": "stdout",
     "output_type": "stream",
     "text": [
      "🧪 Testing web dashboard creation...\n",
      "✅ Dashboard created successfully\n",
      "📊 Dashboard type: Blocks\n",
      "💡 To test interactively: gmp dashboard\n"
     ]
    }
   ],
   "source": [
    "# Test dashboard creation\n",
    "print(\"🧪 Testing web dashboard creation...\")\n",
    "\n",
    "if all_imports_successful and 'create_dashboard' in globals():\n",
    "    try:\n",
    "        # Suppress Gradio warnings during dashboard creation\n",
    "        import warnings\n",
    "        with warnings.catch_warnings():\n",
    "            warnings.simplefilter(\"ignore\", UserWarning)\n",
    "            dashboard = create_dashboard()\n",
    "        \n",
    "        print(\"✅ Dashboard created successfully\")\n",
    "        print(f\"📊 Dashboard type: {type(dashboard).__name__}\")\n",
    "        print(\"💡 To test interactively: gmp dashboard\")\n",
    "        \n",
    "    except Exception as e:\n",
    "        print(f\"❌ Dashboard creation error: {e}\")\n",
    "else:\n",
    "    print(\"⏭️ Skipping dashboard tests - web UI dependencies not available\")"
   ]
  },
  {
   "cell_type": "markdown",
   "metadata": {},
   "source": [
    "## 📦 Registry Testing"
   ]
  },
  {
   "cell_type": "code",
   "execution_count": 16,
   "metadata": {},
   "outputs": [
    {
     "name": "stdout",
     "output_type": "stream",
     "text": [
      "Testing registry functionality...\n",
      "✅ Registry created successfully\n",
      "📚 Available templates: ['basic', 'calculator', 'basic-tool', 'image-generator', 'multi-tool']\n",
      "🏷️ Available categories: ['advanced', 'ai', 'data', 'integration', 'starter', 'tools', 'web']\n",
      "  Template 'basic': ✅\n",
      "  Template 'calculator': ✅\n",
      "  Template 'nonexistent': ❌\n"
     ]
    }
   ],
   "source": [
    "# Test registry functionality\n",
    "print(\"Testing registry functionality...\")\n",
    "\n",
    "if 'ServerRegistry' in globals():\n",
    "    try:\n",
    "        registry = ServerRegistry()\n",
    "        print(\"✅ Registry created successfully\")\n",
    "        \n",
    "        # Test template listing\n",
    "        templates = registry.list_templates()\n",
    "        print(f\"📚 Available templates: {templates}\")\n",
    "        \n",
    "        # Test categories\n",
    "        categories = registry.list_categories()\n",
    "        print(f\"🏷️ Available categories: {categories}\")\n",
    "        \n",
    "        # Test template existence check\n",
    "        for template in [\"basic\", \"calculator\", \"nonexistent\"]:\n",
    "            exists = registry.template_exists(template)\n",
    "            print(f\"  Template '{template}': {'✅' if exists else '❌'}\")\n",
    "            \n",
    "    except Exception as e:\n",
    "        print(f\"❌ Registry error: {e}\")\n",
    "else:\n",
    "    print(\"⏭️ Skipping registry tests - ServerRegistry not available\")"
   ]
  },
  {
   "cell_type": "code",
   "execution_count": 17,
   "metadata": {},
   "outputs": [
    {
     "name": "stdout",
     "output_type": "stream",
     "text": [
      "🧪 Testing registry CLI commands...\n"
     ]
    },
    {
     "data": {
      "text/html": [
       "<pre style=\"white-space:pre;overflow-x:auto;line-height:normal;font-family:Menlo,'DejaVu Sans Mono',consolas,'Courier New',monospace\"><span style=\"color: #7fbfbf; text-decoration-color: #7fbfbf\">[06/03/25 09:14:12] </span><span style=\"color: #000080; text-decoration-color: #000080\">INFO    </span> HTTP Request: <span style=\"color: #808000; text-decoration-color: #808000; font-weight: bold\">GET</span> <span style=\"color: #0000ff; text-decoration-color: #0000ff; text-decoration: underline\">https://api.gradio.app/pkg-version</span> <span style=\"color: #008000; text-decoration-color: #008000\">\"HTTP/1.1 200 OK\"</span> <a href=\"file://C:\\Users\\seanp\\AppData\\Roaming\\Python\\Python313\\site-packages\\httpx\\_client.py\" target=\"_blank\"><span style=\"color: #7f7f7f; text-decoration-color: #7f7f7f\">_client.py</span></a><span style=\"color: #7f7f7f; text-decoration-color: #7f7f7f\">:</span><a href=\"file://C:\\Users\\seanp\\AppData\\Roaming\\Python\\Python313\\site-packages\\httpx\\_client.py#1025\" target=\"_blank\"><span style=\"color: #7f7f7f; text-decoration-color: #7f7f7f\">1025</span></a>\n",
       "</pre>\n"
      ],
      "text/plain": [
       "\u001b[2;36m[06/03/25 09:14:12]\u001b[0m\u001b[2;36m \u001b[0m\u001b[34mINFO    \u001b[0m HTTP Request: \u001b[1;33mGET\u001b[0m \u001b[4;94mhttps://api.gradio.app/pkg-version\u001b[0m \u001b[32m\"HTTP/1.1 200 OK\"\u001b[0m \u001b]8;id=746642;file://C:\\Users\\seanp\\AppData\\Roaming\\Python\\Python313\\site-packages\\httpx\\_client.py\u001b\\\u001b[2m_client.py\u001b[0m\u001b]8;;\u001b\\\u001b[2m:\u001b[0m\u001b]8;id=314744;file://C:\\Users\\seanp\\AppData\\Roaming\\Python\\Python313\\site-packages\\httpx\\_client.py#1025\u001b\\\u001b[2m1025\u001b[0m\u001b]8;;\u001b\\\n"
      ]
     },
     "metadata": {},
     "output_type": "display_data"
    },
    {
     "name": "stdout",
     "output_type": "stream",
     "text": [
      "Registry categories: ✅\n",
      "📚 Found 7 categories\n",
      "Registry search: ✅\n",
      "🔍 Found 10 server(s):\n",
      "✅ Registry CLI tests completed\n"
     ]
    }
   ],
   "source": [
    "# Test registry CLI commands  \n",
    "print(\"🧪 Testing registry CLI commands...\")\n",
    "\n",
    "# Test categories\n",
    "result = run_cli_command([\"registry\", \"categories\"])\n",
    "print(f\"Registry categories: {'✅' if result['success'] else '❌'}\")\n",
    "if result['success'] and result['stdout'].strip():\n",
    "    # Only show the key info, not full output\n",
    "    lines = result['stdout'].strip().split('\\n')\n",
    "    category_lines = [line for line in lines if ' - ' in line and '(' in line]\n",
    "    print(f\"📚 Found {len(category_lines)} categories\")\n",
    "else:\n",
    "    print(f\"❌ Error: {result.get('stderr', 'Unknown error')}\")\n",
    "\n",
    "# Test search\n",
    "result = run_cli_command([\"registry\", \"search\"])\n",
    "print(f\"Registry search: {'✅' if result['success'] else '❌'}\")\n",
    "if result['success'] and 'Found' in result['stdout']:\n",
    "    # Extract just the count\n",
    "    first_line = result['stdout'].split('\\n')[0]\n",
    "    print(f\"🔍 {first_line}\")\n",
    "else:\n",
    "    print(f\"❌ Error: {result.get('stderr', 'Unknown error')}\")\n",
    "\n",
    "print(\"✅ Registry CLI tests completed\")"
   ]
  },
  {
   "cell_type": "markdown",
   "metadata": {},
   "source": [
    "## 🔧 Configuration Management Testing"
   ]
  },
  {
   "cell_type": "code",
   "execution_count": 18,
   "metadata": {},
   "outputs": [
    {
     "name": "stdout",
     "output_type": "stream",
     "text": [
      "Testing configuration management...\n",
      "✅ Config manager created\n",
      "✅ Configuration saved\n",
      "✅ Configuration loaded: {'default_port': 7860, 'auto_reload': True, 'mcp_protocol': 'auto', 'log_level': 'INFO'}\n",
      "Default port: 7860\n",
      "Auto reload: True\n",
      "MCP protocol: auto\n"
     ]
    }
   ],
   "source": [
    "# Test configuration management\n",
    "print(\"Testing configuration management...\")\n",
    "\n",
    "if 'ConfigManager' in globals():\n",
    "    try:\n",
    "        config_manager = ConfigManager()\n",
    "        print(\"✅ Config manager created\")\n",
    "        \n",
    "        # Test default configuration\n",
    "        default_config = {\n",
    "            \"default_port\": 7860,\n",
    "            \"auto_reload\": True,\n",
    "            \"mcp_protocol\": \"auto\",\n",
    "            \"log_level\": \"INFO\"\n",
    "        }\n",
    "        \n",
    "        # Save test configuration\n",
    "        config_manager.save_config(default_config)\n",
    "        print(\"✅ Configuration saved\")\n",
    "        \n",
    "        # Load configuration\n",
    "        loaded_config = config_manager.load_config()\n",
    "        print(f\"✅ Configuration loaded: {loaded_config}\")\n",
    "        \n",
    "        # Test individual settings\n",
    "        print(f\"Default port: {config_manager.default_port}\")\n",
    "        print(f\"Auto reload: {config_manager.auto_reload}\")\n",
    "        print(f\"MCP protocol: {config_manager.mcp_protocol}\")\n",
    "        \n",
    "    except Exception as e:\n",
    "        print(f\"❌ Configuration error: {e}\")\n",
    "else:\n",
    "    print(\"⏭️ Skipping configuration tests - ConfigManager not available\")"
   ]
  },
  {
   "cell_type": "markdown",
   "metadata": {},
   "source": [
    "## 🎯 Template Testing"
   ]
  },
  {
   "cell_type": "code",
   "execution_count": 19,
   "metadata": {},
   "outputs": [
    {
     "name": "stdout",
     "output_type": "stream",
     "text": [
      "\n",
      "Testing calculator template...\n",
      "✅ calculator server created\n",
      "📄 Files: ['app.py', 'README.md', 'requirements.txt']\n",
      "📝 App.py length: 2070 characters\n",
      "🔍 Contains 'gradio': True\n",
      "🔍 Contains template keyword: True\n",
      "\n",
      "Testing image-generator template...\n",
      "✅ image-generator server created\n",
      "📄 Files: ['app.py', 'requirements.txt']\n",
      "📝 App.py length: 3814 characters\n",
      "🔍 Contains 'gradio': True\n",
      "🔍 Contains template keyword: False\n"
     ]
    }
   ],
   "source": [
    "# Test different templates\n",
    "templates_to_test = [\"calculator\", \"image-generator\"]\n",
    "\n",
    "for template in templates_to_test:\n",
    "    server_name = f\"test-{template}-server\"\n",
    "    print(f\"\\nTesting {template} template...\")\n",
    "    \n",
    "    result = run_cli_command([\"server\", \"create\", server_name, \"--template\", template])\n",
    "    \n",
    "    if result['success']:\n",
    "        print(f\"✅ {template} server created\")\n",
    "        \n",
    "        # Check created files\n",
    "        server_path = Path(server_name)\n",
    "        if server_path.exists():\n",
    "            files = list(server_path.glob(\"*\"))\n",
    "            print(f\"📄 Files: {[f.name for f in files]}\")\n",
    "            \n",
    "            # Check app.py content\n",
    "            app_file = server_path / \"app.py\"\n",
    "            if app_file.exists():\n",
    "                content = app_file.read_text()\n",
    "                print(f\"📝 App.py length: {len(content)} characters\")\n",
    "                print(f\"🔍 Contains 'gradio': {'gradio' in content.lower()}\")\n",
    "                print(f\"🔍 Contains template keyword: {template.replace('-', '_') in content.lower()}\")\n",
    "            else:\n",
    "                print(\"❌ app.py not found\")\n",
    "        else:\n",
    "            print(f\"❌ Server directory {server_name} not found\")\n",
    "    else:\n",
    "        print(f\"❌ {template} server creation failed: {result.get('stderr', 'Unknown error')}\")"
   ]
  },
  {
   "cell_type": "markdown",
   "metadata": {},
   "source": [
    "## 🚀 Performance Testing"
   ]
  },
  {
   "cell_type": "code",
   "execution_count": 20,
   "metadata": {},
   "outputs": [
    {
     "name": "stdout",
     "output_type": "stream",
     "text": [
      "Testing performance...\n",
      "⏱️ MCP server creation (10 tools): 0.010s\n",
      "⏱️ Gradio conversion: 0.003s\n",
      "⏱️ 10 tool executions: 0.000s\n",
      "✅ Performance testing completed\n"
     ]
    }
   ],
   "source": [
    "# Test performance of various operations\n",
    "import time\n",
    "\n",
    "print(\"Testing performance...\")\n",
    "\n",
    "if all_imports_successful and 'MCPServer' in globals():\n",
    "    # Test MCP server creation time\n",
    "    start_time = time.time()\n",
    "    test_server = MCPServer(\"perf-test\", \"1.0.0\")\n",
    "\n",
    "    # Add multiple tools\n",
    "    for i in range(10):\n",
    "        @test_server.tool(f\"tool_{i}\", f\"Test tool {i}\")\n",
    "        async def test_func(x: str) -> str:\n",
    "            return f\"Result: {x}\"\n",
    "\n",
    "    creation_time = time.time() - start_time\n",
    "    print(f\"⏱️ MCP server creation (10 tools): {creation_time:.3f}s\")\n",
    "\n",
    "    # Test Gradio conversion time\n",
    "    start_time = time.time()\n",
    "    gradio_funcs = test_server.to_gradio_functions()\n",
    "    conversion_time = time.time() - start_time\n",
    "    print(f\"⏱️ Gradio conversion: {conversion_time:.3f}s\")\n",
    "\n",
    "    # Test tool execution time\n",
    "    start_time = time.time()\n",
    "    for _ in range(10):\n",
    "        await test_server.tools[0].handler(\"test\")\n",
    "    execution_time = time.time() - start_time\n",
    "    print(f\"⏱️ 10 tool executions: {execution_time:.3f}s\")\n",
    "\n",
    "    print(\"✅ Performance testing completed\")\n",
    "else:\n",
    "    print(\"⏭️ Skipping performance tests - MCP dependencies not available\")"
   ]
  },
  {
   "cell_type": "markdown",
   "metadata": {},
   "source": [
    "## 🔍 Error Handling Testing"
   ]
  },
  {
   "cell_type": "code",
   "execution_count": 21,
   "metadata": {},
   "outputs": [
    {
     "name": "stdout",
     "output_type": "stream",
     "text": [
      "🧪 Testing error handling...\n",
      "✅ Invalid command: Failed as expected\n",
      "✅ Missing server name: Failed as expected\n",
      "✅ Invalid URL: Failed as expected\n",
      "✅ Nonexistent template: Returned helpful error message\n",
      "✅ Nonexistent server: Returned helpful error message\n",
      "✅ Error handling tests completed (3/3 failed as expected)\n"
     ]
    }
   ],
   "source": [
    "# Test error handling for CLI commands\n",
    "print(\"🧪 Testing error handling...\")\n",
    "\n",
    "# Test commands that should fail\n",
    "test_cases = [\n",
    "    ([\"invalid-command\"], \"Invalid command\"),\n",
    "    ([\"server\", \"create\"], \"Missing server name\"),\n",
    "    ([\"client\", \"connect\", \"invalid-url\"], \"Invalid URL\")\n",
    "]\n",
    "\n",
    "failed_as_expected = 0\n",
    "for cmd, description in test_cases:\n",
    "    result = run_cli_command(cmd)\n",
    "    expected_failure = not result['success']\n",
    "    if expected_failure:\n",
    "        failed_as_expected += 1\n",
    "        print(f\"✅ {description}: Failed as expected\")\n",
    "    else:\n",
    "        print(f\"⚠️ {description}: Should have failed but succeeded\")\n",
    "\n",
    "# Test commands that should succeed but return informative messages\n",
    "info_cases = [\n",
    "    ([\"server\", \"create\", \"test\", \"--template\", \"nonexistent\"], \"Nonexistent template\"),\n",
    "    ([\"server\", \"info\", \"nonexistent-server\"], \"Nonexistent server\")\n",
    "]\n",
    "\n",
    "for cmd, description in info_cases:\n",
    "    result = run_cli_command(cmd)\n",
    "    if result['success'] and ('not found' in result['stdout'].lower() or 'template' in result['stdout'].lower()):\n",
    "        print(f\"✅ {description}: Returned helpful error message\")\n",
    "    else:\n",
    "        print(f\"❌ {description}: Unexpected behavior\")\n",
    "\n",
    "print(f\"✅ Error handling tests completed ({failed_as_expected}/{len(test_cases)} failed as expected)\")"
   ]
  },
  {
   "cell_type": "code",
   "execution_count": 22,
   "metadata": {},
   "outputs": [
    {
     "name": "stdout",
     "output_type": "stream",
     "text": [
      "Testing MCP tool error handling...\n",
      "✅ Successful execution: Success: success\n",
      "✅ Error handled correctly: This is a test failure\n"
     ]
    }
   ],
   "source": [
    "# Test MCP tool error handling\n",
    "print(\"Testing MCP tool error handling...\")\n",
    "\n",
    "if all_imports_successful and 'MCPServer' in globals():\n",
    "    error_server = MCPServer(\"error-test\", \"1.0.0\")\n",
    "\n",
    "    @error_server.tool(\"failing_tool\", \"A tool that can fail\")\n",
    "    async def failing_tool(input_val: str) -> str:\n",
    "        if input_val == \"fail\":\n",
    "            raise ValueError(\"This is a test failure\")\n",
    "        return f\"Success: {input_val}\"\n",
    "\n",
    "    # Test successful execution\n",
    "    try:\n",
    "        result = await error_server.tools[0].handler(\"success\")\n",
    "        print(f\"✅ Successful execution: {result}\")\n",
    "    except Exception as e:\n",
    "        print(f\"❌ Unexpected error in successful case: {e}\")\n",
    "\n",
    "    # Test error case\n",
    "    try:\n",
    "        result = await error_server.tools[0].handler(\"fail\")\n",
    "        print(f\"❌ Should have failed but got: {result}\")\n",
    "    except ValueError as e:\n",
    "        print(f\"✅ Error handled correctly: {e}\")\n",
    "    except Exception as e:\n",
    "        print(f\"❌ Unexpected error type: {type(e)} - {e}\")\n",
    "else:\n",
    "    print(\"⏭️ Skipping MCP error handling tests - dependencies not available\")"
   ]
  },
  {
   "cell_type": "markdown",
   "metadata": {},
   "source": [
    "## 📊 Test Results Summary"
   ]
  },
  {
   "cell_type": "code",
   "execution_count": 23,
   "metadata": {},
   "outputs": [
    {
     "name": "stdout",
     "output_type": "stream",
     "text": [
      "\n",
      "==================================================\n",
      "🎯 MANUAL TESTING SUMMARY\n",
      "==================================================\n",
      "\n",
      "✅ Completed Tests:\n",
      "  🔧 Basic CLI functionality\n",
      "  🖥️ Server management\n",
      "  🔌 MCP server functionality\n",
      "  🌐 Web dashboard creation\n",
      "  📦 Registry operations\n",
      "  🔧 Configuration management\n",
      "  🎯 Template testing\n",
      "  🚀 Performance testing\n",
      "  🔍 Error handling\n",
      "\n",
      "📋 Next Steps:\n",
      "  1. Run automated test scripts: python tests/test_cli_comprehensive.py\n",
      "  2. Run MCP functionality tests: python tests/test_mcp_functionality.py\n",
      "  3. Test dashboard manually: gmp dashboard\n",
      "  4. Test real server deployment\n",
      "  5. Review QA/QC checklist: QA_QC_CHECKLIST.md\n",
      "\n",
      "💡 Tips:\n",
      "  - Use 'gmp --help' for complete CLI reference\n",
      "  - Check test_environment/ for created test servers\n",
      "  - Run individual cells to debug specific issues\n",
      "  - Monitor logs when testing server startup\n",
      "\n",
      "📁 Test artifacts created in: c:\\Users\\seanp\\gradio-mcp-playground\\tests\\test_environment\n",
      "📄 Artifacts: ['test-basic-server', 'test-calculator-server', 'test-image-generator-server']\n",
      "\n",
      "🎉 Manual testing notebook completed!\n"
     ]
    }
   ],
   "source": [
    "# Cleanup and summary\n",
    "os.chdir(original_cwd)\n",
    "\n",
    "print(\"\\n\" + \"=\"*50)\n",
    "print(\"🎯 MANUAL TESTING SUMMARY\")\n",
    "print(\"=\"*50)\n",
    "\n",
    "print(\"\\n✅ Completed Tests:\")\n",
    "print(\"  🔧 Basic CLI functionality\")\n",
    "print(\"  🖥️ Server management\")\n",
    "print(\"  🔌 MCP server functionality\")\n",
    "print(\"  🌐 Web dashboard creation\")\n",
    "print(\"  📦 Registry operations\")\n",
    "print(\"  🔧 Configuration management\")\n",
    "print(\"  🎯 Template testing\")\n",
    "print(\"  🚀 Performance testing\")\n",
    "print(\"  🔍 Error handling\")\n",
    "\n",
    "print(\"\\n📋 Next Steps:\")\n",
    "print(\"  1. Run automated test scripts: python tests/test_cli_comprehensive.py\")\n",
    "print(\"  2. Run MCP functionality tests: python tests/test_mcp_functionality.py\")\n",
    "print(\"  3. Test dashboard manually: gmp dashboard\")\n",
    "print(\"  4. Test real server deployment\")\n",
    "print(\"  5. Review QA/QC checklist: QA_QC_CHECKLIST.md\")\n",
    "\n",
    "print(\"\\n💡 Tips:\")\n",
    "print(\"  - Use 'gmp --help' for complete CLI reference\")\n",
    "print(\"  - Check test_environment/ for created test servers\")\n",
    "print(\"  - Run individual cells to debug specific issues\")\n",
    "print(\"  - Monitor logs when testing server startup\")\n",
    "\n",
    "print(f\"\\n📁 Test artifacts created in: {test_dir.absolute()}\")\n",
    "if test_dir.exists():\n",
    "    artifacts = list(test_dir.glob(\"*\"))\n",
    "    print(f\"📄 Artifacts: {[a.name for a in artifacts]}\")\n",
    "\n",
    "print(\"\\n🎉 Manual testing notebook completed!\")"
   ]
  },
  {
   "cell_type": "markdown",
   "metadata": {},
   "source": [
    "## 🧹 Cleanup (Optional)"
   ]
  },
  {
   "cell_type": "code",
   "execution_count": 24,
   "metadata": {},
   "outputs": [
    {
     "name": "stdout",
     "output_type": "stream",
     "text": [
      "🧹 Cleaned up test directory: test_environment\n",
      "💡 Uncomment the code above to clean up test artifacts\n"
     ]
    }
   ],
   "source": [
    "# Uncomment to clean up test environment\n",
    "# import shutil\n",
    "# if test_dir.exists():\n",
    "#     shutil.rmtree(test_dir)\n",
    "#     print(f\"🧹 Cleaned up test directory: {test_dir}\")\n",
    "# else:\n",
    "#     print(\"✨ Test directory already clean\")\n",
    "\n",
    "print(\"💡 Uncomment the code above to clean up test artifacts\")"
   ]
  }
 ],
 "metadata": {
  "kernelspec": {
   "display_name": "Python 3",
   "language": "python",
   "name": "python3"
  },
  "language_info": {
   "codemirror_mode": {
    "name": "ipython",
    "version": 3
   },
   "file_extension": ".py",
   "mimetype": "text/x-python",
   "name": "python",
   "nbconvert_exporter": "python",
   "pygments_lexer": "ipython3",
   "version": "3.13.3"
  }
 },
 "nbformat": 4,
 "nbformat_minor": 4
}
